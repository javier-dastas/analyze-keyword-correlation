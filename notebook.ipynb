{
 "cells": [
  {
   "cell_type": "markdown",
   "id": "7d71202b-20d5-42c8-9ff0-e06031d846a0",
   "metadata": {},
   "source": [
    "# Analyze Keyword Correlation\n",
    "\n",
    "This notebook performs exploratory analysis on exception report texts from pharmaceutical manufacturing processes. It identifies the top keywords most associated with each classification label using term frequency analysis."
   ]
  },
  {
   "cell_type": "code",
   "execution_count": 42,
   "id": "5e7cd601-1222-42ff-bacc-7a188add1807",
   "metadata": {},
   "outputs": [
    {
     "name": "stdout",
     "output_type": "stream",
     "text": [
      "Requirement already satisfied: pip in /opt/anaconda3/lib/python3.12/site-packages (25.1.1)\n",
      "Requirement already satisfied: pandas in /Users/dastas/.local/lib/python3.12/site-packages (2.2.2)\n",
      "Requirement already satisfied: numpy>=1.26.0 in /opt/anaconda3/lib/python3.12/site-packages (from pandas) (1.26.4)\n",
      "Requirement already satisfied: python-dateutil>=2.8.2 in /opt/anaconda3/lib/python3.12/site-packages (from pandas) (2.9.0.post0)\n",
      "Requirement already satisfied: pytz>=2020.1 in /opt/anaconda3/lib/python3.12/site-packages (from pandas) (2024.1)\n",
      "Requirement already satisfied: tzdata>=2022.7 in /opt/anaconda3/lib/python3.12/site-packages (from pandas) (2023.3)\n",
      "Requirement already satisfied: six>=1.5 in /opt/anaconda3/lib/python3.12/site-packages (from python-dateutil>=2.8.2->pandas) (1.16.0)\n",
      "Requirement already satisfied: scikit-learn in /opt/anaconda3/lib/python3.12/site-packages (1.6.1)\n",
      "Requirement already satisfied: numpy>=1.19.5 in /opt/anaconda3/lib/python3.12/site-packages (from scikit-learn) (1.26.4)\n",
      "Requirement already satisfied: scipy>=1.6.0 in /opt/anaconda3/lib/python3.12/site-packages (from scikit-learn) (1.13.1)\n",
      "Requirement already satisfied: joblib>=1.2.0 in /opt/anaconda3/lib/python3.12/site-packages (from scikit-learn) (1.4.2)\n",
      "Requirement already satisfied: threadpoolctl>=3.1.0 in /opt/anaconda3/lib/python3.12/site-packages (from scikit-learn) (3.5.0)\n",
      "Requirement already satisfied: matplotlib in /opt/anaconda3/lib/python3.12/site-packages (3.9.2)\n",
      "Requirement already satisfied: contourpy>=1.0.1 in /opt/anaconda3/lib/python3.12/site-packages (from matplotlib) (1.2.0)\n",
      "Requirement already satisfied: cycler>=0.10 in /opt/anaconda3/lib/python3.12/site-packages (from matplotlib) (0.11.0)\n",
      "Requirement already satisfied: fonttools>=4.22.0 in /opt/anaconda3/lib/python3.12/site-packages (from matplotlib) (4.51.0)\n",
      "Requirement already satisfied: kiwisolver>=1.3.1 in /opt/anaconda3/lib/python3.12/site-packages (from matplotlib) (1.4.4)\n",
      "Requirement already satisfied: numpy>=1.23 in /opt/anaconda3/lib/python3.12/site-packages (from matplotlib) (1.26.4)\n",
      "Requirement already satisfied: packaging>=20.0 in /opt/anaconda3/lib/python3.12/site-packages (from matplotlib) (23.2)\n",
      "Requirement already satisfied: pillow>=8 in /opt/anaconda3/lib/python3.12/site-packages (from matplotlib) (10.4.0)\n",
      "Requirement already satisfied: pyparsing>=2.3.1 in /opt/anaconda3/lib/python3.12/site-packages (from matplotlib) (3.1.2)\n",
      "Requirement already satisfied: python-dateutil>=2.7 in /opt/anaconda3/lib/python3.12/site-packages (from matplotlib) (2.9.0.post0)\n",
      "Requirement already satisfied: six>=1.5 in /opt/anaconda3/lib/python3.12/site-packages (from python-dateutil>=2.7->matplotlib) (1.16.0)\n"
     ]
    }
   ],
   "source": [
    "!pip install --upgrade pip\n",
    "!pip install pandas\n",
    "!pip install scikit-learn\n",
    "!pip install matplotlib"
   ]
  },
  {
   "cell_type": "code",
   "execution_count": 44,
   "id": "5e4992b8-6a67-4227-be22-8777f7faf505",
   "metadata": {},
   "outputs": [],
   "source": [
    "\"\"\"\n",
    "exception-text-correlation-analyzer\n",
    "------------------------------------\n",
    "This script performs exploratory analysis on exception report texts from \n",
    "pharmaceutical manufacturing processes. It identifies the top keywords \n",
    "most associated with each classification label using term frequency analysis.\n",
    "\"\"\"\n",
    "\n",
    "import pandas as pd\n",
    "from sklearn.feature_extraction.text import CountVectorizer\n",
    "import matplotlib.pyplot as plt"
   ]
  },
  {
   "cell_type": "markdown",
   "id": "d5ebf987-c4a1-408f-b7a4-8dcfba42760f",
   "metadata": {},
   "source": [
    "## Example dataset: Exception text descriptions and their respective class labels"
   ]
  },
  {
   "cell_type": "code",
   "execution_count": 47,
   "id": "fd1b0b9f-3485-44f3-ae7b-d3fc76f5bda7",
   "metadata": {},
   "outputs": [],
   "source": [
    "data = {\n",
    "    \"text\": [\n",
    "        \"failure in temperature sensor\",\n",
    "        \"equipment calibration error\",\n",
    "        \"issue in production line\",\n",
    "        \"temperature out of range\",\n",
    "        \"unexpected process interruption\",\n",
    "        \"contaminated sample\",\n",
    "        \"low pressure alarm\",\n",
    "        \"motor failure\",\n",
    "        \"material out of specification\",\n",
    "        \"defective system connection\"\n",
    "    ],\n",
    "    \"label\": [\n",
    "        \"Sensor\", \"Calibration\", \"Production\", \"Sensor\", \"Production\",\n",
    "        \"Contamination\", \"Pressure\", \"Motor\", \"Specification\", \"System\"\n",
    "    ]\n",
    "}"
   ]
  },
  {
   "cell_type": "code",
   "execution_count": 49,
   "id": "373b3b02-2b5f-42e1-831b-6118aa629de4",
   "metadata": {},
   "outputs": [],
   "source": [
    "# Create a DataFrame from the dataset\n",
    "df = pd.DataFrame(data)"
   ]
  },
  {
   "cell_type": "markdown",
   "id": "e6ffa5ae-66b2-48c4-8daf-4a21504ff663",
   "metadata": {},
   "source": [
    "## Vectorize to transform text into a bag-of-words"
   ]
  },
  {
   "cell_type": "code",
   "execution_count": 52,
   "id": "09a03208-ee83-4bbb-9073-20ac5247068f",
   "metadata": {},
   "outputs": [],
   "source": [
    "# Use CountVectorizer to transform text into a bag-of-words representation\n",
    "# The analyzer removes common Spanish stopwords automatically\n",
    "vectorizer = CountVectorizer(stop_words='english')\n",
    "X = vectorizer.fit_transform(df['text'])"
   ]
  },
  {
   "cell_type": "markdown",
   "id": "169fcd39-5695-445c-9ce3-944c4ae30f57",
   "metadata": {},
   "source": [
    "## Sparse matrix to a DataFrame with words as column headers"
   ]
  },
  {
   "cell_type": "code",
   "execution_count": 55,
   "id": "929a7317-9f7a-4a62-9b8e-50961cd4c8ac",
   "metadata": {},
   "outputs": [],
   "source": [
    "# Convert the sparse matrix to a DataFrame with words as column headers\n",
    "words_df = pd.DataFrame(X.toarray(), columns=vectorizer.get_feature_names_out())\n",
    "\n",
    "# Append the class column to associate each row with its exception label\n",
    "words_df['label'] = df['label']\n",
    "\n",
    "# Group the DataFrame by class and calculate the mean frequency of each word\n",
    "mean_by_label = words_df.groupby('label').mean().T"
   ]
  },
  {
   "cell_type": "markdown",
   "id": "397c295b-84c0-4d34-9607-c929a922d736",
   "metadata": {},
   "source": [
    "## Get the top 5 most frequent keywords"
   ]
  },
  {
   "cell_type": "code",
   "execution_count": 58,
   "id": "9b065641-3202-4a0a-80ac-f4d515ca6f78",
   "metadata": {},
   "outputs": [
    {
     "name": "stdout",
     "output_type": "stream",
     "text": [
      "Top 5 keywords per label:\n",
      "label          Calibration  Contamination  Motor  Pressure  Production  \\\n",
      "alarm                  0.0            0.0    0.0       1.0         NaN   \n",
      "calibration            1.0            NaN    NaN       NaN         NaN   \n",
      "connection             NaN            NaN    NaN       NaN         NaN   \n",
      "contaminated           NaN            1.0    NaN       0.0         NaN   \n",
      "defective              NaN            NaN    NaN       0.0         NaN   \n",
      "equipment              1.0            NaN    NaN       NaN         NaN   \n",
      "error                  1.0            NaN    NaN       NaN         NaN   \n",
      "failure                NaN            NaN    1.0       NaN         NaN   \n",
      "interruption           NaN            NaN    NaN       NaN         0.5   \n",
      "issue                  NaN            NaN    NaN       NaN         0.5   \n",
      "line                   NaN            NaN    NaN       NaN         0.5   \n",
      "low                    NaN            NaN    NaN       1.0         NaN   \n",
      "material               NaN            0.0    0.0       NaN         NaN   \n",
      "motor                  0.0            NaN    1.0       NaN         NaN   \n",
      "pressure               NaN            NaN    NaN       1.0         NaN   \n",
      "production             NaN            NaN    NaN       NaN         0.5   \n",
      "range                  NaN            NaN    NaN       NaN         NaN   \n",
      "sample                 NaN            1.0    NaN       NaN         NaN   \n",
      "sensor                 NaN            NaN    NaN       NaN         NaN   \n",
      "specification          NaN            NaN    NaN       NaN         NaN   \n",
      "temperature            NaN            0.0    0.0       NaN         NaN   \n",
      "unexpected             NaN            NaN    NaN       NaN         0.5   \n",
      "\n",
      "label          Sensor  Specification  System  \n",
      "alarm             0.0            0.0     0.0  \n",
      "calibration       NaN            NaN     NaN  \n",
      "connection        NaN            NaN     1.0  \n",
      "contaminated      NaN            NaN     NaN  \n",
      "defective         NaN            NaN     1.0  \n",
      "equipment         NaN            NaN     NaN  \n",
      "error             NaN            NaN     NaN  \n",
      "failure           0.5            NaN     NaN  \n",
      "interruption      NaN            NaN     NaN  \n",
      "issue             NaN            NaN     NaN  \n",
      "line              NaN            NaN     NaN  \n",
      "low               NaN            NaN     NaN  \n",
      "material          NaN            1.0     NaN  \n",
      "motor             NaN            NaN     0.0  \n",
      "pressure          NaN            NaN     NaN  \n",
      "production        NaN            NaN     NaN  \n",
      "range             0.5            NaN     NaN  \n",
      "sample            NaN            NaN     NaN  \n",
      "sensor            0.5            0.0     NaN  \n",
      "specification     NaN            1.0     NaN  \n",
      "temperature       1.0            0.0     0.0  \n",
      "unexpected        NaN            NaN     NaN  \n"
     ]
    }
   ],
   "source": [
    "# For each class, get the top 5 most frequent keywords\n",
    "top_words_by_label = mean_by_label.apply(lambda x: x.sort_values(ascending=False).head(5))\n",
    "\n",
    "# Display the top keywords in the console\n",
    "print(\"Top 5 keywords per label:\")\n",
    "print(top_words_by_label)"
   ]
  },
  {
   "cell_type": "markdown",
   "id": "c233ad5f-7930-41b3-bdc7-ce4cf1fb3baa",
   "metadata": {},
   "source": [
    "## Plot a bar chart for visual analysis"
   ]
  },
  {
   "cell_type": "code",
   "execution_count": 60,
   "id": "111f2640-9147-4bae-975a-debe0c899a07",
   "metadata": {},
   "outputs": [
    {
     "data": {
      "image/png": "[encoded data removed]",
      "text/plain": [
       "<Figure size 640x480 with 1 Axes>"
      ]
     },
     "metadata": {},
     "output_type": "display_data"
    }
   ],
   "source": [
    "# Optional: Plot a bar chart for visual analysis (e.g., for one specific class)\n",
    "selected_label = \"Sensor\"\n",
    "top_keywords = mean_by_label[selected_label].sort_values(ascending=False).head(5)\n",
    "top_keywords.plot(kind='bar', title=f\"Top keywords for label: {selected_label}\")\n",
    "plt.ylabel(\"Average Frequency\")\n",
    "plt.xlabel(\"Keyword\")\n",
    "plt.tight_layout()\n",
    "plt.show()"
   ]
  },
  {
   "cell_type": "code",
   "execution_count": null,
   "id": "946ce5b2-a4d9-4338-b7a3-ccde47612b6e",
   "metadata": {},
   "outputs": [],
   "source": []
  }
 ],
 "metadata": {
  "kernelspec": {
   "display_name": "Python (base)",
   "language": "python",
   "name": "base"
  },
  "language_info": {
   "codemirror_mode": {
    "name": "ipython",
    "version": 3
   },
   "file_extension": ".py",
   "mimetype": "text/x-python",
   "name": "python",
   "nbconvert_exporter": "python",
   "pygments_lexer": "ipython3",
   "version": "3.12.2"
  }
 },
 "nbformat": 4,
 "nbformat_minor": 5
}
